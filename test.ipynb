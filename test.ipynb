{
 "cells": [
  {
   "cell_type": "markdown",
   "metadata": {},
   "source": [
    "### 数据处理与特征提取\n",
    "\n",
    "在 `kick_samples` 文件夹中有 8 个子目录，分别对于不同 kick 样本的类别。采用独热编码，编码为长度为 8 的向量。\n",
    "\n",
    "- 首先通过 `librosa` 加载音频文件"
   ]
  },
  {
   "cell_type": "code",
   "execution_count": 4,
   "metadata": {},
   "outputs": [],
   "source": [
    "import os\n",
    "import librosa\n",
    "import numpy as np\n",
    "from sklearn.model_selection import train_test_split\n",
    "\n",
    "def load_audio(file_path):\n",
    "    # 加载音频文件\n",
    "    y, sr = librosa.load(file_path)\n",
    "    return y, sr\n",
    "\n",
    "def extract_features(y, sr):\n",
    "    # 提取特征\n",
    "    n_fft = min(2048, len(y))\n",
    "    mfccs = librosa.feature.mfcc(y=y, sr=sr, n_mfcc=13, n_fft=n_fft).T\n",
    "    return mfccs\n",
    "\n",
    "def preprocess_data(label_dir):\n",
    "    X, y = [], []\n",
    "    for label in os.listdir(label_dir):\n",
    "        for file_name in os.listdir(os.path.join(label_dir, label)):\n",
    "            audio, sr = load_audio(os.path.join(label_dir, label, file_name))\n",
    "            features = extract_features(audio, sr)\n",
    "            X.append(features)\n",
    "            y.append(label)\n",
    "    return X, y\n",
    "\n",
    "X, y = preprocess_data('kick_samples')"
   ]
  },
  {
   "cell_type": "markdown",
   "metadata": {},
   "source": [
    "### 构建模型"
   ]
  },
  {
   "cell_type": "code",
   "execution_count": 5,
   "metadata": {},
   "outputs": [],
   "source": [
    "from keras.models import Model\n",
    "from keras.layers import Input, LSTM, Dense, Dropout, Flatten\n",
    "\n",
    "def build_multi_task_model(input_shape, num_classes):\n",
    "    # 输入层\n",
    "    inputs = Input(shape=input_shape)\n",
    "    \n",
    "    # 共享特征提取层\n",
    "    lstm1 = LSTM(128, return_sequences=True)(inputs)\n",
    "    dropout1 = Dropout(0.5)(lstm1)\n",
    "    lstm2 = LSTM(64)(dropout1)\n",
    "    dropout2 = Dropout(0.5)(lstm2)\n",
    "\n",
    "    # 将 LSTM 输出展平，以便与 Dense 层连接\n",
    "    flattened = Flatten()(dropout2)\n",
    "    \n",
    "    # 时间预测分支\n",
    "    cat_output = Dense(num_classes, activation='softmax', name='cat')(flattened)\n",
    "    \n",
    "    # 构建模型\n",
    "    model = Model(inputs=inputs, outputs=cat_output)\n",
    "    \n",
    "    # 编译模型\n",
    "    model.compile(\n",
    "        loss={'cat': 'categorical_crossentropy'},\n",
    "        optimizer='adam',\n",
    "        metrics={'cat': 'accuracy'}\n",
    "    )\n",
    "    \n",
    "    return model\n",
    "\n",
    "# 假设每个任务的类别数\n",
    "num_classes = 11\n",
    "\n",
    "# 假设输入形状\n",
    "input_shape = (None, 13)  # 假设我们使用13维的MFCC特征\n",
    "\n",
    "# 构建模型\n",
    "model = build_multi_task_model(input_shape, num_classes)"
   ]
  },
  {
   "cell_type": "markdown",
   "metadata": {},
   "source": [
    "### 训练模型"
   ]
  },
  {
   "cell_type": "code",
   "execution_count": 6,
   "metadata": {},
   "outputs": [],
   "source": [
    "from keras.utils import to_categorical\n",
    "\n",
    "cat_dict = {\n",
    "    \"Top\":          0,\n",
    "    \"Chest\":        1,\n",
    "    \"Signature\":    2,\n",
    "    \"Stomp\":        3,\n",
    "    \"Punchy\":       4,\n",
    "    \"808s\":         5,\n",
    "    \"Distorted\":    6,\n",
    "    \"Psy\":          7,\n",
    "    \"Big\":          8,\n",
    "    \"Hardstyle\":    9,\n",
    "    \"Stadium\":      10,\n",
    "}\n",
    "\n",
    "X_train, X_val, y_train, y_val = train_test_split(X, y, test_size=0.05, random_state=42)\n",
    "\n",
    "y_train = list(map(cat_dict.get, y_train))\n",
    "y_val = list(map(cat_dict.get, y_val))\n",
    "\n",
    "y_train_cat = to_categorical(y_train, num_classes)\n",
    "y_val_cat = to_categorical(y_val, num_classes)"
   ]
  },
  {
   "cell_type": "code",
   "execution_count": 7,
   "metadata": {},
   "outputs": [],
   "source": [
    "import tensorflow as tf\n",
    "\n",
    "# 将X_train和X_val转换为RaggedTensor\n",
    "X_train_ragged = tf.ragged.constant(X_train)\n",
    "X_val_ragged = tf.ragged.constant(X_val)\n",
    "y_train_cat = tf.convert_to_tensor(y_train_cat)\n",
    "y_val_cat = tf.convert_to_tensor(y_val_cat)\n",
    "\n",
    "# 创建tf.data.Dataset\n",
    "train_dataset = tf.data.Dataset.from_tensor_slices((X_train_ragged, y_train_cat))\n",
    "val_dataset = tf.data.Dataset.from_tensor_slices((X_val_ragged, y_val_cat))\n",
    "\n",
    "# 批量化数据\n",
    "batch_size = 32\n",
    "train_dataset = train_dataset.batch(batch_size)\n",
    "val_dataset = val_dataset.batch(batch_size)"
   ]
  },
  {
   "cell_type": "code",
   "execution_count": 12,
   "metadata": {},
   "outputs": [
    {
     "name": "stdout",
     "output_type": "stream",
     "text": [
      "Epoch 1/10\n",
      "10/10 [==============================] - 2s 201ms/step - loss: 0.1743 - accuracy: 0.9528 - val_loss: 0.6595 - val_accuracy: 0.8235\n",
      "Epoch 2/10\n",
      "10/10 [==============================] - 2s 200ms/step - loss: 0.1496 - accuracy: 0.9528 - val_loss: 0.6396 - val_accuracy: 0.8235\n",
      "Epoch 3/10\n",
      "10/10 [==============================] - 2s 197ms/step - loss: 0.1617 - accuracy: 0.9528 - val_loss: 0.8708 - val_accuracy: 0.7647\n",
      "Epoch 4/10\n",
      "10/10 [==============================] - 2s 219ms/step - loss: 0.1452 - accuracy: 0.9560 - val_loss: 0.7900 - val_accuracy: 0.7647\n",
      "Epoch 5/10\n",
      "10/10 [==============================] - 2s 204ms/step - loss: 0.1016 - accuracy: 0.9780 - val_loss: 1.1281 - val_accuracy: 0.6471\n",
      "Epoch 6/10\n",
      "10/10 [==============================] - 2s 196ms/step - loss: 0.1327 - accuracy: 0.9623 - val_loss: 0.9934 - val_accuracy: 0.7647\n",
      "Epoch 7/10\n",
      "10/10 [==============================] - 2s 205ms/step - loss: 0.1462 - accuracy: 0.9560 - val_loss: 0.8883 - val_accuracy: 0.7647\n",
      "Epoch 8/10\n",
      "10/10 [==============================] - 2s 205ms/step - loss: 0.1146 - accuracy: 0.9654 - val_loss: 0.7511 - val_accuracy: 0.7647\n",
      "Epoch 9/10\n",
      "10/10 [==============================] - 2s 203ms/step - loss: 0.0975 - accuracy: 0.9748 - val_loss: 0.8661 - val_accuracy: 0.7647\n",
      "Epoch 10/10\n",
      "10/10 [==============================] - 2s 205ms/step - loss: 0.1088 - accuracy: 0.9686 - val_loss: 0.6636 - val_accuracy: 0.8235\n"
     ]
    }
   ],
   "source": [
    "# 训练模型\n",
    "history = model.fit(\n",
    "    train_dataset,\n",
    "    epochs=10,\n",
    "    validation_data=val_dataset\n",
    ")"
   ]
  },
  {
   "cell_type": "markdown",
   "metadata": {},
   "source": [
    "### 通过新的数据集验证"
   ]
  },
  {
   "cell_type": "code",
   "execution_count": 13,
   "metadata": {},
   "outputs": [
    {
     "name": "stdout",
     "output_type": "stream",
     "text": [
      "1/1 [==============================] - 1s 1s/step\n",
      "Validation Accuracy: 82.35%\n"
     ]
    }
   ],
   "source": [
    "# 使用模型进行预测\n",
    "predictions = model.predict(val_dataset)\n",
    "\n",
    "# 转换预测结果为类别索引\n",
    "predicted_classes = np.argmax(predictions, axis=1)\n",
    "\n",
    "# 由于验证标签已经是类别索引，直接使用\n",
    "true_classes = y_val\n",
    "\n",
    "# 计算准确率\n",
    "accuracy = np.mean(predicted_classes == true_classes)\n",
    "print(f\"Validation Accuracy: {accuracy * 100:.2f}%\")"
   ]
  },
  {
   "cell_type": "markdown",
   "metadata": {},
   "source": [
    "### 保存训练好的模型"
   ]
  },
  {
   "cell_type": "code",
   "execution_count": 14,
   "metadata": {},
   "outputs": [
    {
     "name": "stdout",
     "output_type": "stream",
     "text": [
      "Model saved to test_kick_1.h5\n"
     ]
    }
   ],
   "source": [
    "# 假设 filepath 是你想要保存模型的路径\n",
    "filepath = 'test_kick_1.h5'\n",
    "# 保存模型\n",
    "model.save(filepath)\n",
    "\n",
    "# 检查模型文件是否存在\n",
    "if os.path.exists(filepath):\n",
    "    print(f\"Model saved to {filepath}\")\n",
    "else:\n",
    "    print(f\"Model save failed. File not found at {filepath}\")"
   ]
  }
 ],
 "metadata": {
  "kernelspec": {
   "display_name": "ML",
   "language": "python",
   "name": "python3"
  },
  "language_info": {
   "codemirror_mode": {
    "name": "ipython",
    "version": 3
   },
   "file_extension": ".py",
   "mimetype": "text/x-python",
   "name": "python",
   "nbconvert_exporter": "python",
   "pygments_lexer": "ipython3",
   "version": "3.9.18"
  }
 },
 "nbformat": 4,
 "nbformat_minor": 2
}
